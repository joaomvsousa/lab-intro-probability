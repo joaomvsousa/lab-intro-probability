{
 "cells": [
  {
   "cell_type": "markdown",
   "metadata": {},
   "source": [
    "# Lab | Intro to Probability"
   ]
  },
  {
   "cell_type": "markdown",
   "metadata": {},
   "source": [
    "**Objective**\n",
    "\n",
    "Welcome to this Intro to Probability lab, where we explore decision-making scenarios through the lens of probability and strategic analysis. In the business world, making informed decisions is crucial, especially when faced with uncertainties. This lab focuses on scenarios where probabilistic outcomes play a significant role in shaping strategies and outcomes. Students will engage in exercises that require assessing and choosing optimal paths based on data-driven insights. The goal is to enhance your skills by applying probability concepts to solve real-world problems."
   ]
  },
  {
   "cell_type": "markdown",
   "metadata": {},
   "source": [
    "**Challenge 1**"
   ]
  },
  {
   "cell_type": "markdown",
   "metadata": {},
   "source": [
    "#### Ironhack Airlines \n",
    "\n",
    "Often Airlines sell more tickets than they have seats available, this is called overbooking. Consider the following:\n",
    "- A plane has 450 seats. \n",
    "- Based on historical data we conclude that each individual passenger has a 3% chance of missing it's flight. \n",
    "\n",
    "If the Ironhack Airlines routinely sells 460 tickets, what is the chance that they have a seats for all passenger?"
   ]
  },
  {
   "cell_type": "code",
   "execution_count": 2,
   "metadata": {
    "tags": []
   },
   "outputs": [
    {
     "data": {
      "text/plain": [
       "0.8844772466215431"
      ]
     },
     "execution_count": 2,
     "metadata": {},
     "output_type": "execute_result"
    }
   ],
   "source": [
    "import scipy.stats as stats\n",
    "\n",
    "#Probability of success (p): 1-0.03\n",
    "\n",
    "# Parameters\n",
    "n = 460\n",
    "p = 0.97\n",
    "\n",
    "# Cumulative probability P(X <= 450)\n",
    "prob = stats.binom.cdf(450, n, p)\n",
    "\n",
    "prob\n"
   ]
  },
  {
   "cell_type": "markdown",
   "metadata": {},
   "source": [
    "**Challenge 2**"
   ]
  },
  {
   "cell_type": "markdown",
   "metadata": {},
   "source": [
    "#### Ironhack Call Center "
   ]
  },
  {
   "cell_type": "markdown",
   "metadata": {},
   "source": [
    "Suppose a customer service representative at a call center is handling customer complaints. Consider the following:\n",
    "- The probability of successfully resolving a customer complaint on the first attempt is 0.3. \n",
    "\n",
    "\n",
    "What is the probability that the representative needs to make at least three attempts before successfully resolving a customer complaint?"
   ]
  },
  {
   "cell_type": "code",
   "execution_count": 52,
   "metadata": {
    "tags": []
   },
   "outputs": [
    {
     "data": {
      "text/plain": [
       "0.49"
      ]
     },
     "execution_count": 52,
     "metadata": {},
     "output_type": "execute_result"
    }
   ],
   "source": [
    "from scipy.stats import geom\n",
    "\n",
    "# Probability of success\n",
    "p = 0.3\n",
    "\n",
    "# Calculate the CDF for k-1 (2 in this case)\n",
    "cdf_2 = geom.cdf(2, p)\n",
    "\n",
    "# Calculate the probability of at least 3 attempts\n",
    "P_X_ge_3_geom = 1 - cdf_2\n",
    "P_X_ge_3_geom\n"
   ]
  },
  {
   "cell_type": "markdown",
   "metadata": {},
   "source": [
    "**Challenge 3**"
   ]
  },
  {
   "cell_type": "markdown",
   "metadata": {},
   "source": [
    "#### Ironhack Website"
   ]
  },
  {
   "cell_type": "markdown",
   "metadata": {},
   "source": [
    "Consider a scenario related to Ironhack website traffic. Where:\n",
    "- our website takes on average 500 visits per hour.\n",
    "- the website's server is designed to handle up to 550 vists per hour.\n",
    "\n",
    "\n",
    "What is the probability of the website server being overwhelmed?"
   ]
  },
  {
   "cell_type": "code",
   "execution_count": 57,
   "metadata": {
    "tags": []
   },
   "outputs": [
    {
     "data": {
      "text/plain": [
       "0.01"
      ]
     },
     "execution_count": 57,
     "metadata": {},
     "output_type": "execute_result"
    }
   ],
   "source": [
    "#code hereimport scipy.stats as stats\n",
    "\n",
    "# Parameters\n",
    "lambda_visits = 500\n",
    "threshold_visits = 550\n",
    "\n",
    "# Calculate the CDF for k = 550\n",
    "cdf_550 = stats.poisson.cdf(threshold_visits, lambda_visits)\n",
    "\n",
    "# Calculate the probability of more than 550 visits\n",
    "prob_overwhelmed = 1 - cdf_550\n",
    "round(prob_overwhelmed, 2)\n"
   ]
  },
  {
   "cell_type": "markdown",
   "metadata": {},
   "source": [
    "What is the probability of being overwhelmed at some point during a day? (consider 24hours)"
   ]
  },
  {
   "cell_type": "code",
   "execution_count": 72,
   "metadata": {
    "tags": []
   },
   "outputs": [
    {
     "data": {
      "text/plain": [
       "0.2677043869515715"
      ]
     },
     "execution_count": 72,
     "metadata": {},
     "output_type": "execute_result"
    }
   ],
   "source": [
    "hours_in_day = 24\n",
    "\n",
    "prob_not_overwhelmed = 1 - prob_overwhelmed\n",
    "\n",
    "# Calculate the probability of not being overwhelmed for 24 hours straight\n",
    "prob_not_overwhelmed_24h = prob_not_overwhelmed ** hours_in_day\n",
    "\n",
    "# Calculate the probability of being overwhelmed at least once in 24 hours\n",
    "prob_overwhelmed_24h = 1 - prob_not_overwhelmed_24h\n",
    "prob_overwhelmed_24h"
   ]
  },
  {
   "cell_type": "markdown",
   "metadata": {},
   "source": [
    "**Challenge 4**"
   ]
  },
  {
   "cell_type": "markdown",
   "metadata": {},
   "source": [
    "#### Ironhack Helpdesk"
   ]
  },
  {
   "cell_type": "markdown",
   "metadata": {},
   "source": [
    "Consider a scenario related to the time between arrivals of customers at a service desk.\n",
    "\n",
    "On average, a customers arrives every 10minutes.\n",
    "\n",
    "What is the probability that the next customer will arrive within the next 5 minutes?"
   ]
  },
  {
   "cell_type": "code",
   "execution_count": 74,
   "metadata": {
    "tags": []
   },
   "outputs": [
    {
     "name": "stdout",
     "output_type": "stream",
     "text": [
      "The probability that the next customer will arrive within the next 5 minutes is 0.3935\n"
     ]
    }
   ],
   "source": [
    "import scipy.stats as stats\n",
    "\n",
    "# Parameters\n",
    "average_time_between_arrivals = 10  # minutes\n",
    "time_within_next = 5  # minutes\n",
    "\n",
    "# Rate parameter for the exponential distribution (lambda)\n",
    "rate_lambda = 1 / average_time_between_arrivals\n",
    "\n",
    "# Calculate the CDF for t = 5 minutes\n",
    "prob_within_5_minutes = stats.expon.cdf(time_within_next, scale=1/rate_lambda)\n",
    "\n",
    "print(f\"The probability that the next customer will arrive within the next 5 minutes is {prob_within_5_minutes:.4f}\")\n"
   ]
  },
  {
   "cell_type": "markdown",
   "metadata": {},
   "source": [
    "If there is no customer for 15minutes, employees can that a 5minutes break.\n",
    "\n",
    "What is the probability an employee taking a break?"
   ]
  },
  {
   "cell_type": "code",
   "execution_count": 80,
   "metadata": {
    "tags": []
   },
   "outputs": [
    {
     "name": "stdout",
     "output_type": "stream",
     "text": [
      "The probability that an employee can take a 5-minute break is 0.2231\n"
     ]
    }
   ],
   "source": [
    "import numpy as np\n",
    "# Parameters\n",
    "average_time_between_arrivals = 10  # minutes\n",
    "time_interval = 15  # minutes\n",
    "\n",
    "# Rate parameter for the exponential distribution (lambda)\n",
    "rate_lambda = 1 / average_time_between_arrivals\n",
    "\n",
    "# Calculate the probability of no customer arriving within the next 15 minutes\n",
    "prob_no_customer_15_minutes = np.exp(-rate_lambda * time_interval)\n",
    "\n",
    "print(f\"The probability that an employee can take a 5-minute break is {prob_no_customer_15_minutes:.4f}\")"
   ]
  },
  {
   "cell_type": "markdown",
   "metadata": {},
   "source": [
    "**Challenge 5**"
   ]
  },
  {
   "cell_type": "markdown",
   "metadata": {},
   "source": [
    "The weights of a certain species of birds follow a normal distribution with a mean weight of 150 grams and a standard deviation of 10 grams. \n",
    "\n",
    "- If we randomly select a bird, what is the probability that its weight is between 140 and 160 grams?"
   ]
  },
  {
   "cell_type": "code",
   "execution_count": 82,
   "metadata": {
    "tags": []
   },
   "outputs": [
    {
     "name": "stdout",
     "output_type": "stream",
     "text": [
      "Probability that weight is between 140 and 160 grams: 0.6826894921370859\n"
     ]
    }
   ],
   "source": [
    "from scipy.stats import norm\n",
    "\n",
    "# Mean and standard deviation\n",
    "mean = 150  # grams\n",
    "std_dev = 10  # grams\n",
    "\n",
    "# Define the range\n",
    "lower_bound = 140\n",
    "upper_bound = 160\n",
    "\n",
    "# Calculate the z-scores\n",
    "z_lower = (lower_bound - mean) / std_dev\n",
    "z_upper = (upper_bound - mean) / std_dev\n",
    "\n",
    "# Calculate the probability using cumulative distribution function (CDF)\n",
    "# Probability that X < upper_bound minus probability that X < lower_bound\n",
    "probability = norm.cdf(z_upper) - norm.cdf(z_lower)\n",
    "\n",
    "print(\"Probability that weight is between 140 and 160 grams:\", probability)\n"
   ]
  },
  {
   "cell_type": "markdown",
   "metadata": {},
   "source": [
    "**Challenge 6**"
   ]
  },
  {
   "cell_type": "markdown",
   "metadata": {},
   "source": [
    "If the lifetime (in hours) of a certain electronic component follows an exponential distribution with a mean lifetime of 50 hours, what is the probability that the component fails within the first 30 hours?"
   ]
  },
  {
   "cell_type": "code",
   "execution_count": 86,
   "metadata": {
    "tags": []
   },
   "outputs": [
    {
     "name": "stdout",
     "output_type": "stream",
     "text": [
      "Probability that the component fails within the first 30 hours: 0.4511883639059735\n"
     ]
    }
   ],
   "source": [
    "from scipy.stats import expon\n",
    "\n",
    "# Mean lifetime\n",
    "mean_lifetime = 50  # hours\n",
    "\n",
    "# Calculate lambda (rate parameter)\n",
    "rate_parameter = 1 / mean_lifetime\n",
    "\n",
    "# Time at which we want to find the probability\n",
    "time = 30  # hours\n",
    "\n",
    "# Calculate the probability using the CDF of exponential distribution\n",
    "probability = expon.cdf(time, scale=mean_lifetime)\n",
    "\n",
    "print(\"Probability that the component fails within the first 30 hours:\", probability)"
   ]
  }
 ],
 "metadata": {
  "kernelspec": {
   "display_name": "Python 3 (ipykernel)",
   "language": "python",
   "name": "python3"
  },
  "language_info": {
   "codemirror_mode": {
    "name": "ipython",
    "version": 3
   },
   "file_extension": ".py",
   "mimetype": "text/x-python",
   "name": "python",
   "nbconvert_exporter": "python",
   "pygments_lexer": "ipython3",
   "version": "3.11.7"
  }
 },
 "nbformat": 4,
 "nbformat_minor": 4
}
